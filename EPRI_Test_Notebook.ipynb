{
 "cells": [
  {
   "cell_type": "code",
   "execution_count": null,
   "id": "9363c3c2",
   "metadata": {},
   "outputs": [],
   "source": [
    "import panel as pn\n",
    "import hvplot.pandas\n",
    "import holoviews as hv\n",
    "import xarray as xr\n",
    "import pandas as pd\n",
    "import datetime as dt\n",
    "import numpy as np\n",
    "from datetime import date\n",
    "from datetime import datetime\n",
    "from holoviews import dim, opts\n",
    "from bokeh.models import HoverTool\n",
    "import ipywidgets as ipw\n",
    "import hvplot.xarray\n",
    "import panel.widgets as pnw\n",
    "import plotly.express as px\n",
    "from matplotlib import pyplot as plt\n",
    "import geoviews as gv\n",
    "import cartopy.crs as ccrs\n",
    "import seaborn as sns\n",
    "from matplotlib import colors as mcolors\n",
    "import shutup\n",
    "shutup.please()\n",
    "hv.extension('bokeh')\n",
    "pn.extension('tabulator', sizing_mode=\"stretch_width\")"
   ]
  },
  {
   "cell_type": "code",
   "execution_count": null,
   "id": "80fbc709",
   "metadata": {},
   "outputs": [],
   "source": [
    "## Make sure to upload 'Tmax_tmin.nc' to files on the left everytime notebook is opened again\n",
    "data = xr.open_dataset('Tmax_Tmin.nc')\n",
    "tmax = data.tmax\n",
    "tmin = data.tmin\n",
    "# data"
   ]
  },
  {
   "cell_type": "code",
   "execution_count": null,
   "id": "1839f7bd",
   "metadata": {},
   "outputs": [],
   "source": [
    "time = data.time.values.tolist()\n",
    "city = data.City.values.tolist()\n",
    "lat = data.latitude.values\n",
    "lon = data.longitude.values\n",
    "regions = ['Northeast', 'Midwest', 'South', 'West']"
   ]
  },
  {
   "cell_type": "code",
   "execution_count": null,
   "id": "f992f9d2",
   "metadata": {},
   "outputs": [],
   "source": [
    "# Using a dictionary to map a city to its region (South, West, Northeast, Midwest)\n",
    "city_to_region = {\n",
    "    'Birmingham': 'South', 'Mobile': 'South', 'Phoenix': 'West', 'Bullhead City': 'West', 'Little Rock': 'South',\n",
    "    'Bentonville': 'South', 'Los Angeles': 'West', 'Redding': 'West', 'Denver': 'West', 'Colorado Springs': 'West',\n",
    "    'Bridgeport': 'Northeast', 'Middletown': 'Northeast', 'Wilmington': 'South', 'Dover': 'South', 'Washington': 'Northeast',\n",
    "    'Jacksonville': 'South', 'Pensacola': 'South', 'Atlanta': 'South', 'Savannah': 'South', 'Boise City': 'West',\n",
    "    'Pocatello': 'West', 'Chicago': 'Midwest', 'Quincy': 'Northeast', 'Indianapolis': 'Midwest', 'Evansville': 'Midwest',\n",
    "    'Des Moines': 'Midwest', 'Dubuque': 'Midwest', 'Wichita': 'Midwest', 'Shawnee': 'Midwest', 'Louisville': 'South',\n",
    "    'Bowling Green': 'South', 'New Orleans': 'South', 'Bossier City': 'South', 'Portland': 'West', 'Baltimore': 'Northeast',\n",
    "    'Frederick': 'Northeast', 'Boston': 'Northeast', 'Westfield': 'Midwest', 'Detroit': 'Midwest', 'Grand Rapids': 'Midwest',\n",
    "    'Minneapolis': 'Midwest', 'Rochester': 'Northeast', 'Jackson': 'South', 'Southaven': 'South', 'Kansas City': 'Midwest',\n",
    "    'Florissant': 'Midwest', 'Billings': 'West', 'Missoula': 'West', 'Omaha': 'Midwest', 'Lincoln': 'Midwest', 'Las Vegas': 'West',\n",
    "    'Carson City': 'West', 'Manchester': 'Northeast', 'Nashua': 'Northeast', 'Newark': 'Northeast', 'Camden': 'Northeast',\n",
    "    'Albuquerque': 'West', 'Las Cruces': 'West', 'New York': 'Northeast', 'Buffalo': 'Northeast', 'Charlotte': 'South',\n",
    "    'Rocky Mount': 'South', 'Fargo': 'Midwest', 'Bismarck': 'Midwest', 'Columbus': 'Midwest', 'Warren': 'Midwest',\n",
    "    'Oklahoma City': 'South', 'Tulsa': 'South', 'Medford': 'West', 'Philadelphia': 'Northeast', 'Pittsburgh': 'Northeast',\n",
    "    'Providence': 'Northeast', 'Woonsocket': 'Northeast', 'Columbia': 'South', 'Charleston': 'South', 'Sioux Falls': 'Midwest',\n",
    "    'Rapid City': 'Midwest', 'Memphis': 'South', 'Johnson City': 'South', 'Houston': 'South', 'Amarillo': 'South',\n",
    "    'Salt Lake City': 'West', 'Spanish Fork': 'West', 'Burlington': 'Northeast', 'Virginia Beach': 'South', 'Roanoke': 'South',\n",
    "    'Seattle': 'West', 'Spokane': 'West', 'Huntington': 'Midwest', 'Milwaukee': 'Midwest', 'La Crosse': 'Midwest',\n",
    "    'Cheyenne': 'West', 'Casper': 'West', 'Toronto': 'Northeast'\n",
    "}"
   ]
  },
  {
   "cell_type": "code",
   "execution_count": null,
   "id": "0a295643",
   "metadata": {},
   "outputs": [],
   "source": [
    "df = tmax.to_dataframe().reset_index()\n",
    "df_tmin = tmin.to_dataframe().reset_index()\n",
    "df['tmin'] = df_tmin['tmin']\n",
    "# df = df.loc[:,['City', 'time', 'tmax', 'tmin']]\n",
    "\n",
    "#removing duplicate 'Portland' column\n",
    "df = df.loc[:,~df.columns.duplicated()].copy()\n",
    "df = df.rename(columns={'tmax': 'Max Temp (Fahrenheit)', 'tmin': 'Min Temp (Fahrenheit)'})\n",
    "\n",
    "#Adding necessary columns for region\n",
    "df['Region'] = df['City'].map(city_to_region)\n",
    "\n",
    "#Adding necessary time columns\n",
    "df['time'] = pd.to_datetime(df['time'])\n",
    "df['Year-Month'] = df['time'].dt.strftime('%Y-%m')\n",
    "df['Year'] = df['time'].dt.year.astype('int')\n",
    "df['Month'] = df['time'].apply(lambda x: x.strftime('%B'))\n",
    "\n",
    "#Adding columns for the Map visualization\n",
    "df['Yearly Max'] = df.groupby(['City', 'Year'])['Max Temp (Fahrenheit)'].transform('max')\n",
    "df['Yearly Min'] = df.groupby(['City', 'Year'])['Max Temp (Fahrenheit)'].transform('min')\n",
    "df = df.rename(columns = {'latitude': 'Latitude', 'longitude': 'Longitude', 'Max Temp': 'Max Temp (Fahrenheit)', 'Min Temp': 'Min Temp (Fahrenheit)'})\n",
    "\n",
    "# making DataFrame pipleine interactive\n",
    "# idf = df.interactive()\n",
    "# idf.head()"
   ]
  },
  {
   "cell_type": "code",
   "execution_count": null,
   "id": "39ee064b",
   "metadata": {},
   "outputs": [],
   "source": [
    "df.head()"
   ]
  },
  {
   "cell_type": "code",
   "execution_count": null,
   "id": "300e4136",
   "metadata": {},
   "outputs": [],
   "source": [
    "# #| title: Temperature Data Over Time\n",
    "# months = df['Month'].unique().tolist()\n",
    "# #Widget to select multiple cities\n",
    "# select_city = pn.widgets.MultiChoice(\n",
    "#     name='Select Cities',\n",
    "#     options=city,\n",
    "#     value = ['New York', 'Los Angeles']\n",
    "# )\n",
    "# #Widget to toggle max/min temperature\n",
    "# max_or_min = pn.widgets.RadioBoxGroup(name='Max/Min Temperature', options=['Max Temp (Fahrenheit)', 'Min Temp (Fahrenheit)'])\n",
    "# #Widget to select a month\n",
    "# select_month = pn.widgets.Select(\n",
    "#     name='Select Month',\n",
    "#     options=months+['All Months'],\n",
    "#     value = 'August'\n",
    "# )\n",
    "# #Widget to select number of years to include\n",
    "# numyears = pn.widgets.IntRangeSlider(\n",
    "#     name = \"Year Range\",\n",
    "#     start = 1950,\n",
    "#     end = 2021,\n",
    "#     value = (2016, 2021),\n",
    "#     step = 1\n",
    "# )\n",
    "# ipipeline_1 = idf[(idf['City'].isin(select_city.param.value)) &\n",
    "#                     (idf['Year'] >= numyears.param.value_start) &\n",
    "#                     (idf['Year'] <= numyears.param.value_end)]\n",
    "\n",
    "# line_plot = ipipeline_1.hvplot(x='time', y=max_or_min, by='City', line_width=0.8,\n",
    "#                                 height=350, width=1500,\n",
    "#                                 cmap='Accent', ylim=(-40, 120))\n",
    "\n",
    "\n",
    "# @pn.depends(select_city.param.value, max_or_min.param.value, numyears.param.value_start, numyears.param.value_end)\n",
    "# def create_line(cities, max_min, year_start, year_end):\n",
    "#     constrained = df[(df['City'].isin(cities)) & (df['Year'] >= year_start) &\n",
    "#                     (df['Year'] <= year_end)]\n",
    "#     upper = max(constrained[max_min])+5\n",
    "#     lower = min(constrained[max_min])-5\n",
    "#     fig = constrained.hvplot(x='time', y=max_or_min, by='City', line_width=0.8,\n",
    "#                                 height=350, width=1500,\n",
    "#                                 cmap='Accent', ylim=(-40, 120))\n",
    "#     return fig\n",
    "                   \n",
    "# layout = pn.Column(select_city, max_or_min, numyears, create_line)\n",
    "# layout.servable()\n",
    "# layout"
   ]
  },
  {
   "cell_type": "code",
   "execution_count": null,
   "id": "3b21e1cf",
   "metadata": {},
   "outputs": [],
   "source": [
    "# col_1 = pn.Column(select_city, max_or_min, numyears, create_line)\n",
    "# col_1"
   ]
  },
  {
   "cell_type": "code",
   "execution_count": null,
   "id": "98bfe36c",
   "metadata": {},
   "outputs": [],
   "source": [
    "# plotly graph\n",
    "\n",
    "df = px.data.gapminder().query(\"country=='Canada'\")\n",
    "fig = px.line(df, x=\"year\", y=\"lifeExp\", title='Life expectancy in Canada')"
   ]
  },
  {
   "cell_type": "code",
   "execution_count": null,
   "id": "de916ff7",
   "metadata": {},
   "outputs": [],
   "source": [
    "def create_simple_lineplot():\n",
    "    constrained = df[(df['City']=='New York') & (df['Year'] >= 2010) &\n",
    "                    (df['Year'] <= 2021)]\n",
    "    fig = px.line(constrained, x=\"Year\", y='Max Temp (Fahrenheit)')\n",
    "    return fig\n",
    "create_simple_lineplot()"
   ]
  },
  {
   "cell_type": "code",
   "execution_count": null,
   "id": "44935866",
   "metadata": {},
   "outputs": [],
   "source": []
  }
 ],
 "metadata": {
  "kernelspec": {
   "display_name": "Python 3 (ipykernel)",
   "language": "python",
   "name": "python3"
  },
  "language_info": {
   "codemirror_mode": {
    "name": "ipython",
    "version": 3
   },
   "file_extension": ".py",
   "mimetype": "text/x-python",
   "name": "python",
   "nbconvert_exporter": "python",
   "pygments_lexer": "ipython3",
   "version": "3.10.9"
  }
 },
 "nbformat": 4,
 "nbformat_minor": 5
}
